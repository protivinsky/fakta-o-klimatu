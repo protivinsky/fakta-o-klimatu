{
 "cells": [
  {
   "cell_type": "markdown",
   "metadata": {},
   "source": [
    "# EU Emissions Per Capita\n",
    "\n",
    "This notebook shows how to create a chart similar to the infographics showing [European emissions per capita](https://faktaoklimatu.cz/infografiky/emise-eu-na-osobu):\n",
    "\n",
    "![EU emissions per capita](https://faktaoklimatu.cz/assets/infographics/emise-eu-na-osobu_1200.png)\n",
    "\n",
    "The width of each rectangle shows a population of a given country, the height shows the emissions per capita. As the overall country emissions are given by the product of these variables, the area of each rectangle shows the total emissions."
   ]
  },
  {
   "cell_type": "markdown",
   "metadata": {},
   "source": [
    "## Load prerequisities"
   ]
  },
  {
   "cell_type": "markdown",
   "metadata": {},
   "source": [
    "It is necessary to install all the required packages before the first use (and it has to be done only once for all notebooks). Then we can import the libraries (and set up better plotting settings via matplotlibrc file)."
   ]
  },
  {
   "cell_type": "code",
   "execution_count": null,
   "metadata": {},
   "outputs": [],
   "source": [
    "!pip install -r requirements.txt"
   ]
  },
  {
   "cell_type": "code",
   "execution_count": 1,
   "metadata": {},
   "outputs": [],
   "source": [
    "import numpy as np\n",
    "import pandas as pd\n",
    "import matplotlib as mpl\n",
    "import matplotlib.pyplot as plt\n",
    "mpl.rc_file_defaults()\n",
    "import eurostat"
   ]
  },
  {
   "cell_type": "markdown",
   "metadata": {},
   "source": [
    "## Prepare the dataset\n",
    "\n",
    "Now we can create the dataset with all the underlying data. It consists of two parts:\n",
    "- population data\n",
    "- greenhouse gases emissions data\n",
    "\n",
    "Both these datasets are available via Eurostat, so we can use their library to load it easily. In addition, we also need a list of all countries we want to include into the plot. As the country names can be written in different ways (i.e. Czechia or The Czech Republic), it is better to use standardised ISO 3166 codes as country identifiers – and that's also what Eurostat datasets use. The chart shows EU28 countries, so European Union still including United Kingdom.\n",
    "\n",
    "If you care only about the chart, you can skip this section and just load the dataset from a file in the next part."
   ]
  },
  {
   "cell_type": "code",
   "execution_count": 2,
   "metadata": {},
   "outputs": [],
   "source": [
    "# country codes for EU28 based on ISO 3166 alpha-2\n",
    "eu28 = ['AT', 'BE', 'BG', 'CY', 'CZ', 'DE', 'DK', 'EE', 'EL', 'ES', 'FI', 'FR', 'HR', 'HU',\n",
    "        'IE', 'IT', 'LT', 'LU', 'LV', 'MT', 'NL', 'PL', 'PT', 'RO', 'SE', 'SI', 'SK', 'UK']"
   ]
  },
  {
   "cell_type": "code",
   "execution_count": 3,
   "metadata": {},
   "outputs": [],
   "source": [
    "# geo dictionary allows us to easily convert ISO codes into country names\n",
    "geo_dic = eurostat.get_dic('geo')"
   ]
  },
  {
   "cell_type": "code",
   "execution_count": 4,
   "metadata": {},
   "outputs": [],
   "source": [
    "# create a dataframe with all EU countries and with a sane name for Germany\n",
    "df = pd.DataFrame({'code': eu28, 'country': [geo_dic[c] if c != 'DE' else 'Germany' for c in eu28]})"
   ]
  },
  {
   "cell_type": "markdown",
   "metadata": {},
   "source": [
    "Now we can load **population data** – the full dataset contains also population for different age groups and for men and women, so we subset only on totals."
   ]
  },
  {
   "cell_type": "code",
   "execution_count": 5,
   "metadata": {},
   "outputs": [],
   "source": [
    "pop_raw = eurostat.get_data_df('demo_pjan', flags=False).query('age == \"TOTAL\" and sex == \"T\"')"
   ]
  },
  {
   "cell_type": "code",
   "execution_count": 6,
   "metadata": {},
   "outputs": [],
   "source": [
    "pop = pop_raw[[r'geo\\time', 2018]].rename(columns={r'geo\\time': 'code', 2018: 'pop'})\n",
    "pop['pop'] = np.int_(pop['pop'])"
   ]
  },
  {
   "cell_type": "markdown",
   "metadata": {},
   "source": [
    "Load **greenhouse gases table** and filter on:\n",
    "- airpol == GHG means all greenhouse gases, expressed as CO2 equivalent,\n",
    "- src_crf == TOTX4_MEMONIA means total emissions, excluding LULUCF and memo items, including international aviation,\n",
    "- unit == MIO_T means the values are expressed in million tonnes.\n"
   ]
  },
  {
   "cell_type": "code",
   "execution_count": 7,
   "metadata": {},
   "outputs": [],
   "source": [
    "ghg_raw = eurostat.get_data_df('env_air_gge', flags=False) \\\n",
    "    .query('airpol == \"GHG\" and src_crf == \"TOTX4_MEMONIA\" and unit == \"MIO_T\"')"
   ]
  },
  {
   "cell_type": "code",
   "execution_count": 8,
   "metadata": {},
   "outputs": [],
   "source": [
    "ghg = ghg_raw[[r'geo\\time', 2018]].rename(columns={r'geo\\time': 'code', 2018: 'ghg'})"
   ]
  },
  {
   "cell_type": "markdown",
   "metadata": {},
   "source": [
    "The last step is to merge the datasets together and create an additional column for emissions per capita (and we multiply by 1e6, so the values are in metric tonnes per capita)."
   ]
  },
  {
   "cell_type": "code",
   "execution_count": 9,
   "metadata": {},
   "outputs": [],
   "source": [
    "df = pd.merge(pd.merge(df, pop), ghg)"
   ]
  },
  {
   "cell_type": "code",
   "execution_count": 10,
   "metadata": {},
   "outputs": [],
   "source": [
    "# emissions per capita, in tonnes per capita per year\n",
    "df['ghg_per_capita'] = 1e6 * df['ghg'] / df['pop']"
   ]
  },
  {
   "cell_type": "markdown",
   "metadata": {},
   "source": [
    "The resulting dataset is identical to `data/eu-emissions-2018.csv`."
   ]
  },
  {
   "cell_type": "code",
   "execution_count": 11,
   "metadata": {},
   "outputs": [
    {
     "data": {
      "text/html": [
       "<div>\n",
       "<style scoped>\n",
       "    .dataframe tbody tr th:only-of-type {\n",
       "        vertical-align: middle;\n",
       "    }\n",
       "\n",
       "    .dataframe tbody tr th {\n",
       "        vertical-align: top;\n",
       "    }\n",
       "\n",
       "    .dataframe thead th {\n",
       "        text-align: right;\n",
       "    }\n",
       "</style>\n",
       "<table border=\"1\" class=\"dataframe\">\n",
       "  <thead>\n",
       "    <tr style=\"text-align: right;\">\n",
       "      <th></th>\n",
       "      <th>code</th>\n",
       "      <th>country</th>\n",
       "      <th>pop</th>\n",
       "      <th>ghg</th>\n",
       "      <th>ghg_per_capita</th>\n",
       "    </tr>\n",
       "  </thead>\n",
       "  <tbody>\n",
       "    <tr>\n",
       "      <th>0</th>\n",
       "      <td>AT</td>\n",
       "      <td>Austria</td>\n",
       "      <td>8822267</td>\n",
       "      <td>81.50147</td>\n",
       "      <td>9.238155</td>\n",
       "    </tr>\n",
       "    <tr>\n",
       "      <th>1</th>\n",
       "      <td>BE</td>\n",
       "      <td>Belgium</td>\n",
       "      <td>11398589</td>\n",
       "      <td>123.64290</td>\n",
       "      <td>10.847211</td>\n",
       "    </tr>\n",
       "    <tr>\n",
       "      <th>2</th>\n",
       "      <td>BG</td>\n",
       "      <td>Bulgaria</td>\n",
       "      <td>7050034</td>\n",
       "      <td>58.59507</td>\n",
       "      <td>8.311317</td>\n",
       "    </tr>\n",
       "    <tr>\n",
       "      <th>3</th>\n",
       "      <td>CY</td>\n",
       "      <td>Cyprus</td>\n",
       "      <td>864236</td>\n",
       "      <td>9.85631</td>\n",
       "      <td>11.404651</td>\n",
       "    </tr>\n",
       "    <tr>\n",
       "      <th>4</th>\n",
       "      <td>CZ</td>\n",
       "      <td>Czechia</td>\n",
       "      <td>10610055</td>\n",
       "      <td>129.38768</td>\n",
       "      <td>12.194817</td>\n",
       "    </tr>\n",
       "    <tr>\n",
       "      <th>5</th>\n",
       "      <td>DE</td>\n",
       "      <td>Germany</td>\n",
       "      <td>82792351</td>\n",
       "      <td>888.71856</td>\n",
       "      <td>10.734308</td>\n",
       "    </tr>\n",
       "    <tr>\n",
       "      <th>6</th>\n",
       "      <td>DK</td>\n",
       "      <td>Denmark</td>\n",
       "      <td>5781190</td>\n",
       "      <td>51.29975</td>\n",
       "      <td>8.873562</td>\n",
       "    </tr>\n",
       "    <tr>\n",
       "      <th>7</th>\n",
       "      <td>EE</td>\n",
       "      <td>Estonia</td>\n",
       "      <td>1319133</td>\n",
       "      <td>20.18452</td>\n",
       "      <td>15.301353</td>\n",
       "    </tr>\n",
       "    <tr>\n",
       "      <th>8</th>\n",
       "      <td>EL</td>\n",
       "      <td>Greece</td>\n",
       "      <td>10741165</td>\n",
       "      <td>96.11319</td>\n",
       "      <td>8.948116</td>\n",
       "    </tr>\n",
       "    <tr>\n",
       "      <th>9</th>\n",
       "      <td>ES</td>\n",
       "      <td>Spain</td>\n",
       "      <td>46658447</td>\n",
       "      <td>352.20855</td>\n",
       "      <td>7.548656</td>\n",
       "    </tr>\n",
       "    <tr>\n",
       "      <th>10</th>\n",
       "      <td>FI</td>\n",
       "      <td>Finland</td>\n",
       "      <td>5513130</td>\n",
       "      <td>58.81929</td>\n",
       "      <td>10.668947</td>\n",
       "    </tr>\n",
       "    <tr>\n",
       "      <th>11</th>\n",
       "      <td>FR</td>\n",
       "      <td>France</td>\n",
       "      <td>66918941</td>\n",
       "      <td>462.79866</td>\n",
       "      <td>6.915810</td>\n",
       "    </tr>\n",
       "    <tr>\n",
       "      <th>12</th>\n",
       "      <td>HR</td>\n",
       "      <td>Croatia</td>\n",
       "      <td>4105493</td>\n",
       "      <td>24.35714</td>\n",
       "      <td>5.932817</td>\n",
       "    </tr>\n",
       "    <tr>\n",
       "      <th>13</th>\n",
       "      <td>HU</td>\n",
       "      <td>Hungary</td>\n",
       "      <td>9778371</td>\n",
       "      <td>64.06754</td>\n",
       "      <td>6.551965</td>\n",
       "    </tr>\n",
       "    <tr>\n",
       "      <th>14</th>\n",
       "      <td>IE</td>\n",
       "      <td>Ireland</td>\n",
       "      <td>4830392</td>\n",
       "      <td>64.24155</td>\n",
       "      <td>13.299449</td>\n",
       "    </tr>\n",
       "    <tr>\n",
       "      <th>15</th>\n",
       "      <td>IT</td>\n",
       "      <td>Italy</td>\n",
       "      <td>60483973</td>\n",
       "      <td>439.26395</td>\n",
       "      <td>7.262485</td>\n",
       "    </tr>\n",
       "    <tr>\n",
       "      <th>16</th>\n",
       "      <td>LT</td>\n",
       "      <td>Lithuania</td>\n",
       "      <td>2808901</td>\n",
       "      <td>20.64803</td>\n",
       "      <td>7.350928</td>\n",
       "    </tr>\n",
       "    <tr>\n",
       "      <th>17</th>\n",
       "      <td>LU</td>\n",
       "      <td>Luxembourg</td>\n",
       "      <td>602005</td>\n",
       "      <td>12.36369</td>\n",
       "      <td>20.537520</td>\n",
       "    </tr>\n",
       "    <tr>\n",
       "      <th>18</th>\n",
       "      <td>LV</td>\n",
       "      <td>Latvia</td>\n",
       "      <td>1934379</td>\n",
       "      <td>12.19977</td>\n",
       "      <td>6.306815</td>\n",
       "    </tr>\n",
       "    <tr>\n",
       "      <th>19</th>\n",
       "      <td>MT</td>\n",
       "      <td>Malta</td>\n",
       "      <td>475701</td>\n",
       "      <td>2.66164</td>\n",
       "      <td>5.595195</td>\n",
       "    </tr>\n",
       "    <tr>\n",
       "      <th>20</th>\n",
       "      <td>NL</td>\n",
       "      <td>Netherlands</td>\n",
       "      <td>17181084</td>\n",
       "      <td>200.45852</td>\n",
       "      <td>11.667397</td>\n",
       "    </tr>\n",
       "    <tr>\n",
       "      <th>21</th>\n",
       "      <td>PL</td>\n",
       "      <td>Poland</td>\n",
       "      <td>37976687</td>\n",
       "      <td>415.85820</td>\n",
       "      <td>10.950355</td>\n",
       "    </tr>\n",
       "    <tr>\n",
       "      <th>22</th>\n",
       "      <td>PT</td>\n",
       "      <td>Portugal</td>\n",
       "      <td>10291027</td>\n",
       "      <td>71.57381</td>\n",
       "      <td>6.954973</td>\n",
       "    </tr>\n",
       "    <tr>\n",
       "      <th>23</th>\n",
       "      <td>RO</td>\n",
       "      <td>Romania</td>\n",
       "      <td>19530631</td>\n",
       "      <td>116.53108</td>\n",
       "      <td>5.966580</td>\n",
       "    </tr>\n",
       "    <tr>\n",
       "      <th>24</th>\n",
       "      <td>SE</td>\n",
       "      <td>Sweden</td>\n",
       "      <td>10120242</td>\n",
       "      <td>54.60557</td>\n",
       "      <td>5.395678</td>\n",
       "    </tr>\n",
       "    <tr>\n",
       "      <th>25</th>\n",
       "      <td>SI</td>\n",
       "      <td>Slovenia</td>\n",
       "      <td>2066880</td>\n",
       "      <td>17.60440</td>\n",
       "      <td>8.517379</td>\n",
       "    </tr>\n",
       "    <tr>\n",
       "      <th>26</th>\n",
       "      <td>SK</td>\n",
       "      <td>Slovakia</td>\n",
       "      <td>5443120</td>\n",
       "      <td>43.53438</td>\n",
       "      <td>7.998056</td>\n",
       "    </tr>\n",
       "    <tr>\n",
       "      <th>27</th>\n",
       "      <td>UK</td>\n",
       "      <td>United Kingdom</td>\n",
       "      <td>66273576</td>\n",
       "      <td>498.74577</td>\n",
       "      <td>7.525560</td>\n",
       "    </tr>\n",
       "  </tbody>\n",
       "</table>\n",
       "</div>"
      ],
      "text/plain": [
       "   code         country       pop        ghg  ghg_per_capita\n",
       "0    AT         Austria   8822267   81.50147        9.238155\n",
       "1    BE         Belgium  11398589  123.64290       10.847211\n",
       "2    BG        Bulgaria   7050034   58.59507        8.311317\n",
       "3    CY          Cyprus    864236    9.85631       11.404651\n",
       "4    CZ         Czechia  10610055  129.38768       12.194817\n",
       "5    DE         Germany  82792351  888.71856       10.734308\n",
       "6    DK         Denmark   5781190   51.29975        8.873562\n",
       "7    EE         Estonia   1319133   20.18452       15.301353\n",
       "8    EL          Greece  10741165   96.11319        8.948116\n",
       "9    ES           Spain  46658447  352.20855        7.548656\n",
       "10   FI         Finland   5513130   58.81929       10.668947\n",
       "11   FR          France  66918941  462.79866        6.915810\n",
       "12   HR         Croatia   4105493   24.35714        5.932817\n",
       "13   HU         Hungary   9778371   64.06754        6.551965\n",
       "14   IE         Ireland   4830392   64.24155       13.299449\n",
       "15   IT           Italy  60483973  439.26395        7.262485\n",
       "16   LT       Lithuania   2808901   20.64803        7.350928\n",
       "17   LU      Luxembourg    602005   12.36369       20.537520\n",
       "18   LV          Latvia   1934379   12.19977        6.306815\n",
       "19   MT           Malta    475701    2.66164        5.595195\n",
       "20   NL     Netherlands  17181084  200.45852       11.667397\n",
       "21   PL          Poland  37976687  415.85820       10.950355\n",
       "22   PT        Portugal  10291027   71.57381        6.954973\n",
       "23   RO         Romania  19530631  116.53108        5.966580\n",
       "24   SE          Sweden  10120242   54.60557        5.395678\n",
       "25   SI        Slovenia   2066880   17.60440        8.517379\n",
       "26   SK        Slovakia   5443120   43.53438        7.998056\n",
       "27   UK  United Kingdom  66273576  498.74577        7.525560"
      ]
     },
     "execution_count": 11,
     "metadata": {},
     "output_type": "execute_result"
    }
   ],
   "source": [
    "# df.to_csv('../data/eu-emissions-2018.csv', index=False)\n",
    "df"
   ]
  },
  {
   "cell_type": "markdown",
   "metadata": {},
   "source": [
    "## Plot the results\n",
    "\n",
    "We can just load the dataset from the file – it is identical to the one created in the previous section. "
   ]
  },
  {
   "cell_type": "code",
   "execution_count": 12,
   "metadata": {},
   "outputs": [],
   "source": [
    "df = pd.read_csv('../data/eu-emissions-2018.csv')"
   ]
  },
  {
   "cell_type": "markdown",
   "metadata": {},
   "source": [
    "The visualization uses five colors for the rectangles, based on the total emissions of a given country."
   ]
  },
  {
   "cell_type": "code",
   "execution_count": 13,
   "metadata": {},
   "outputs": [],
   "source": [
    "color_schema = ['#7FCCBA', '#41B5C3', '#1D90BF', '#225EA7', '#0C2C83']"
   ]
  },
  {
   "cell_type": "markdown",
   "metadata": {},
   "source": [
    "We create another column in the dataframe, telling us into which group based on total emissions a country belongs. The original infographics (version 1.1) is based on data for 2016, so the charts will be slightly different anyway – we also use slightly different cutoff values here, just to have them a nicer numbers."
   ]
  },
  {
   "cell_type": "code",
   "execution_count": 14,
   "metadata": {},
   "outputs": [],
   "source": [
    "cutoffs = [0, 15, 50, 100, 250, df.ghg.max() + 1]\n",
    "df['group'] = pd.cut(df.ghg, cutoffs, labels=False)"
   ]
  },
  {
   "cell_type": "markdown",
   "metadata": {},
   "source": [
    "The last step is just to show all data. We will start with an empty chart and will add the countries consecutively, starting with the highest per capita emissions. There is also a small horizontal offset between the neighboring countries, hence the values on x-axis are just approximate (and that is also the reason why the x-axis population values are not displayed on the infographics)."
   ]
  },
  {
   "cell_type": "code",
   "execution_count": 15,
   "metadata": {},
   "outputs": [
    {
     "data": {
      "image/png": "[encoded data removed]",
      "text/plain": [
       "<Figure size 900x600 with 1 Axes>"
      ]
     },
     "metadata": {},
     "output_type": "display_data"
    }
   ],
   "source": [
    "fig, ax = plt.subplots()\n",
    "\n",
    "x = 0\n",
    "xgap = 2e6\n",
    "ygap = 0.4\n",
    "\n",
    "for i, row in df.sort_values('ghg_per_capita', ascending=False).iterrows():\n",
    "    x = x + xgap\n",
    "    plt.text(x + 0.5 * row['pop'] - 4 * xgap, row['ghg_per_capita'] + ygap, row['country'], rotation=45, fontsize=9)\n",
    "    rec = mpl.patches.Rectangle((x, 0), row['pop'], row['ghg_per_capita'], ec=None, fc=color_schema[row['group']])\n",
    "    ax.add_patch(rec)\n",
    "    x = x + row['pop']\n",
    "\n",
    "ax.set(xlim=(0, 6e8), ylim=(0, 25))\n",
    "ax.set(xlabel='Population', ylabel='t CO2eq per capita', title='CO2eq emissions per capita (2018)')\n",
    "\n",
    "plt.show()"
   ]
  },
  {
   "cell_type": "markdown",
   "metadata": {},
   "source": [
    "Matplotlib also allows to save the chart as PDF or SVG. These vector formats can then be loaded into a specialized graphic software such as Illustrator or Inkscape to turn them into a nice, proper visualization that can be found on our website."
   ]
  }
 ],
 "metadata": {
  "kernelspec": {
   "display_name": "Python 3",
   "language": "python",
   "name": "python3"
  },
  "language_info": {
   "codemirror_mode": {
    "name": "ipython",
    "version": 3
   },
   "file_extension": ".py",
   "mimetype": "text/x-python",
   "name": "python",
   "nbconvert_exporter": "python",
   "pygments_lexer": "ipython3",
   "version": "3.8.5"
  }
 },
 "nbformat": 4,
 "nbformat_minor": 4
}
